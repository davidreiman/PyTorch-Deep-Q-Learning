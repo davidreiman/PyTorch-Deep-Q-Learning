{
 "cells": [
  {
   "cell_type": "code",
   "execution_count": 1,
   "metadata": {
    "collapsed": true
   },
   "outputs": [],
   "source": [
    "%matplotlib inline\n",
    "\n",
    "import os\n",
    "import gym\n",
    "import time\n",
    "import copy\n",
    "import random\n",
    "import numpy as np\n",
    "\n",
    "import torch\n",
    "import torchvision\n",
    "import torch.nn as nn\n",
    "\n",
    "from IPython import display\n",
    "from collections import deque\n",
    "from skimage.color import rgb2grey\n",
    "from matplotlib import pyplot as plt\n",
    "from tqdm import tqdm_notebook as tqdm"
   ]
  },
  {
   "cell_type": "code",
   "execution_count": 2,
   "metadata": {
    "collapsed": true
   },
   "outputs": [],
   "source": [
    "plt.style.use('seaborn')"
   ]
  },
  {
   "cell_type": "code",
   "execution_count": 3,
   "metadata": {
    "collapsed": true
   },
   "outputs": [],
   "source": [
    "class DeepQNetwork(nn.Module):\n",
    "    def __init__(self, num_frames, num_actions):\n",
    "        super(DeepQNetwork, self).__init__()\n",
    "        \n",
    "        # Layers\n",
    "        self.conv1 = nn.Conv2d(\n",
    "            in_channels=num_frames,\n",
    "            out_channels=32,\n",
    "            kernel_size=3,\n",
    "            stride=2,\n",
    "            padding=1\n",
    "            )\n",
    "        self.conv2 = nn.Conv2d(\n",
    "            in_channels=32,\n",
    "            out_channels=64,\n",
    "            kernel_size=3,\n",
    "            stride=2,\n",
    "            padding=1\n",
    "            )\n",
    "        self.conv3 = nn.Conv2d(\n",
    "            in_channels=64,\n",
    "            out_channels=128,\n",
    "            kernel_size=3,\n",
    "            stride=2,\n",
    "            padding=1\n",
    "            )\n",
    "        self.conv4 = nn.Conv2d(\n",
    "            in_channels=128,\n",
    "            out_channels=256,\n",
    "            kernel_size=3,\n",
    "            stride=2,\n",
    "            padding=1\n",
    "            )\n",
    "        self.fc1 = nn.Linear(\n",
    "            in_features=25600,\n",
    "            out_features=512,\n",
    "            )\n",
    "        self.fc2 = nn.Linear(\n",
    "            in_features=512,\n",
    "            out_features=num_actions\n",
    "            )\n",
    "        \n",
    "        # Activations\n",
    "        self.relu = nn.ReLU()\n",
    "        self.softmax = nn.Softmax(dim=0)\n",
    "    \n",
    "    def flatten(self, x):\n",
    "        x = x.view(-1)\n",
    "        return x\n",
    "    \n",
    "    def forward(self, x):\n",
    "        \n",
    "        # Forward pass\n",
    "        x = self.relu(self.conv1(x))\n",
    "        x = self.relu(self.conv2(x))\n",
    "        x = self.relu(self.conv3(x))\n",
    "        x = self.relu(self.conv4(x))\n",
    "        x = self.flatten(x)\n",
    "        x = self.relu(self.fc1(x))\n",
    "        x = self.softmax(self.fc2(x))\n",
    "        \n",
    "        return x"
   ]
  },
  {
   "cell_type": "code",
   "execution_count": 4,
   "metadata": {},
   "outputs": [],
   "source": [
    "class Agent:\n",
    "    def __init__(self, model, memory_depth, gamma, epsilon_i, epsilon_f, anneal_time):\n",
    "        self.model = model\n",
    "        self.memory_depth = memory_depth\n",
    "        self.gamma = gamma\n",
    "        self.e_i = epsilon_i\n",
    "        self.e_f = epsilon_f\n",
    "        self.anneal_time = anneal_time\n",
    "        \n",
    "        self.memory = deque(maxlen=memory_depth)\n",
    "        self.clone()\n",
    "    \n",
    "    def clone(self):\n",
    "        self.clone_model = copy.deepcopy(model)\n",
    "    \n",
    "    def remember(self, state, action, reward, terminal, next_state):\n",
    "        self.memory.append([state, action, reward, terminal, next_state])\n",
    "    \n",
    "    def retrieve(self, batch_size):\n",
    "        if batch_size > self.memories:\n",
    "            batch_size = self.memories\n",
    "        \n",
    "        batch =  random.sample(self.memory, batch_size)\n",
    "        state, action, reward, terminal, next_state = np.split(batch, axis=1)\n",
    "        \n",
    "        return state, action, reward, terminal, next_state\n",
    "    \n",
    "    @property\n",
    "    def memories(self):\n",
    "        return len(self.memory)\n",
    "    \n",
    "    def act(self, state):\n",
    "        q_values = self.model(state).detach()\n",
    "        action = np.argmax(q_values.numpy())\n",
    "        return action\n",
    "    \n",
    "    def process(self, state):\n",
    "        state = rgb2grey(state[35:195, :, :])\n",
    "        state = state[np.newaxis, np.newaxis, :, :]\n",
    "        return to_tensor(state)\n",
    "    \n",
    "    def exploration_rate(self, t):\n",
    "        if t < self.anneal_time:\n",
    "            return self.e_i - t*(self.e_i - self.e_f)/self.anneal_time\n",
    "        elif t >= self.anneal_time:\n",
    "            return self.e_f\n",
    "    \n",
    "    def update(self, batch_size):\n",
    "        state, action, reward, terminal, next_state = self.retrieve(batch_size)\n",
    "        \n",
    "        q = self.clone_model(state).detach().numpy()\n",
    "        q_target = reward + self.gamma*self.clone_model(next_state).detach().numpy()\n",
    "        \n",
    "        loss = mse(q, q_target)\n",
    "        \n",
    "        loss.backward()\n",
    "        optimizer.step()"
   ]
  },
  {
   "cell_type": "code",
   "execution_count": 5,
   "metadata": {
    "collapsed": true
   },
   "outputs": [],
   "source": [
    "# Hyperparameters\n",
    "\n",
    "batch_size = 32\n",
    "update_interval = 40\n",
    "clone_interval = 5\n",
    "frame_skip = 4\n",
    "num_frames = 4\n",
    "num_actions = 4\n",
    "episodes = 5\n",
    "memory_depth = int(1e5)\n",
    "epsilon_i = 1.0\n",
    "epsilon_f = 0.1\n",
    "anneal_time = 100\n",
    "gamma = 0.99"
   ]
  },
  {
   "cell_type": "code",
   "execution_count": 6,
   "metadata": {
    "collapsed": true
   },
   "outputs": [],
   "source": [
    "model = DeepQNetwork(num_frames, num_actions)"
   ]
  },
  {
   "cell_type": "code",
   "execution_count": 7,
   "metadata": {
    "collapsed": true
   },
   "outputs": [],
   "source": [
    "agent = Agent(model, memory_depth, gamma, epsilon_i, epsilon_f, anneal_time)"
   ]
  },
  {
   "cell_type": "code",
   "execution_count": 8,
   "metadata": {
    "collapsed": true
   },
   "outputs": [],
   "source": [
    "cuda = True if torch.cuda.is_available() else False\n",
    "to_tensor = torch.cuda.FloatTensor if cuda else torch.FloatTensor"
   ]
  },
  {
   "cell_type": "code",
   "execution_count": 9,
   "metadata": {
    "collapsed": true
   },
   "outputs": [],
   "source": [
    "env = gym.make('Breakout-v0')"
   ]
  },
  {
   "cell_type": "code",
   "execution_count": 10,
   "metadata": {
    "collapsed": true
   },
   "outputs": [],
   "source": [
    "def q_iteration(episodes):\n",
    "    \n",
    "    for episode in tqdm(range(episodes)):\n",
    "        \n",
    "        state = env.reset()\n",
    "        state = agent.process(state)\n",
    "        \n",
    "        done = False\n",
    "        total_reward = 0\n",
    "        t = 0\n",
    "\n",
    "        while not done:\n",
    "            \n",
    "            env.render()\n",
    "            \n",
    "            while state.size()[1] < num_frames:\n",
    "                action = np.random.choice(num_actions)\n",
    "                \n",
    "                new_frame, reward, done, info = env.step(action)\n",
    "                new_frame = agent.process(new_frame)\n",
    "                \n",
    "                state = torch.cat([state, new_frame], 1)\n",
    "                \n",
    "            if np.random.uniform() < agent.exploration_rate(t):\n",
    "                action = np.random.choice(num_actions)\n",
    "\n",
    "            else:\n",
    "                action = agent.act(state)\n",
    "                \n",
    "            new_frame, reward, done, info = env.step(action)\n",
    "            new_frame = agent.process(new_frame)\n",
    "            \n",
    "            new_state = torch.cat([state, new_frame], 1)\n",
    "            new_state = new_state[:, 1:, :, :]\n",
    "\n",
    "            agent.remember(state.detach().numpy(), action, reward, done, new_state.detach().numpy())\n",
    "\n",
    "            state = new_state\n",
    "            total_reward += reward\n",
    "            t += 1\n",
    "            \n",
    "#             if t % update_interval == 0:\n",
    "#                 agent.update(batch_size)\n",
    "\n",
    "        plt.scatter(episode, total_reward)\n",
    "        plt.xlim(0, episodes)\n",
    "        plt.xlabel(\"Episode\")\n",
    "        plt.ylabel(\"Return\")\n",
    "        display.clear_output(wait=True)\n",
    "        display.display(plt.gcf())\n",
    "        \n",
    "        if episode % clone_interval == 0:\n",
    "            agent.clone()"
   ]
  },
  {
   "cell_type": "code",
   "execution_count": 11,
   "metadata": {
    "scrolled": false
   },
   "outputs": [
    {
     "data": {
      "image/png": "[encoded data removed]",
      "text/plain": [
       "<matplotlib.figure.Figure at 0x11eef3b70>"
      ]
     },
     "metadata": {},
     "output_type": "display_data"
    },
    {
     "name": "stdout",
     "output_type": "stream",
     "text": [
      "\n"
     ]
    },
    {
     "data": {
      "image/png": "[encoded data removed]",
      "text/plain": [
       "<matplotlib.figure.Figure at 0x11eef3b70>"
      ]
     },
     "metadata": {},
     "output_type": "display_data"
    }
   ],
   "source": [
    "q_iteration(5)"
   ]
  },
  {
   "cell_type": "code",
   "execution_count": 15,
   "metadata": {},
   "outputs": [],
   "source": [
    "x = np.array(agent.update(32))"
   ]
  },
  {
   "cell_type": "code",
   "execution_count": 16,
   "metadata": {},
   "outputs": [
    {
     "data": {
      "text/plain": [
       "(32, 5)"
      ]
     },
     "execution_count": 16,
     "metadata": {},
     "output_type": "execute_result"
    }
   ],
   "source": [
    "x.shape"
   ]
  },
  {
   "cell_type": "code",
   "execution_count": 18,
   "metadata": {},
   "outputs": [
    {
     "data": {
      "text/plain": [
       "(1, 4, 160, 160)"
      ]
     },
     "execution_count": 18,
     "metadata": {},
     "output_type": "execute_result"
    }
   ],
   "source": [
    "x[0][0].shape"
   ]
  },
  {
   "cell_type": "code",
   "execution_count": null,
   "metadata": {
    "collapsed": true
   },
   "outputs": [],
   "source": []
  }
 ],
 "metadata": {
  "kernelspec": {
   "display_name": "Python 3",
   "language": "python",
   "name": "python3"
  },
  "language_info": {
   "codemirror_mode": {
    "name": "ipython",
    "version": 3
   },
   "file_extension": ".py",
   "mimetype": "text/x-python",
   "name": "python",
   "nbconvert_exporter": "python",
   "pygments_lexer": "ipython3",
   "version": "3.6.1"
  }
 },
 "nbformat": 4,
 "nbformat_minor": 2
}
