{
 "cells": [
  {
   "cell_type": "code",
   "execution_count": 1,
   "metadata": {
    "collapsed": true
   },
   "outputs": [],
   "source": [
    "import os\n",
    "import gym\n",
    "import time\n",
    "import copy\n",
    "import random\n",
    "import numpy as np\n",
    "\n",
    "import torch\n",
    "import torchvision\n",
    "import torch.nn as nn\n",
    "\n",
    "from tqdm import tqdm\n",
    "from collections import deque\n",
    "from skimage.color import rgb2grey\n",
    "from matplotlib import pyplot as plt"
   ]
  },
  {
   "cell_type": "code",
   "execution_count": 2,
   "metadata": {
    "collapsed": true
   },
   "outputs": [],
   "source": [
    "class ReplayMemory:\n",
    "    def __init__(self, length=int(1e5)):\n",
    "        self.memory = deque(maxlen=length)\n",
    "    \n",
    "    def remember(self, state, action, reward, terminal, next_state):\n",
    "        self.memory.append([state, action, reward, terminal, next_state])\n",
    "    \n",
    "    def retrieve(self, batch_size):\n",
    "        if batch_size > self.depth:\n",
    "            batch_size = self.depth\n",
    "        \n",
    "        return random.sample(self.memory, batch_size)\n",
    "    \n",
    "    @property\n",
    "    def depth(self):\n",
    "        return len(self.memory)"
   ]
  },
  {
   "cell_type": "code",
   "execution_count": 3,
   "metadata": {
    "collapsed": true
   },
   "outputs": [],
   "source": [
    "class DeepQNetwork(nn.Module):\n",
    "    def __init__(self, num_frames, num_actions):\n",
    "        super(DeepQNetwork, self).__init__()\n",
    "        \n",
    "        # Layers\n",
    "        self.conv1 = nn.Conv2d(\n",
    "            in_channels=num_frames,\n",
    "            out_channels=32,\n",
    "            kernel_size=3,\n",
    "            stride=2,\n",
    "            padding=1\n",
    "            )\n",
    "        self.conv2 = nn.Conv2d(\n",
    "            in_channels=32,\n",
    "            out_channels=64,\n",
    "            kernel_size=3,\n",
    "            stride=2,\n",
    "            padding=1\n",
    "            )\n",
    "        self.conv3 = nn.Conv2d(\n",
    "            in_channels=64,\n",
    "            out_channels=128,\n",
    "            kernel_size=3,\n",
    "            stride=2,\n",
    "            padding=1\n",
    "            )\n",
    "        self.conv4 = nn.Conv2d(\n",
    "            in_channels=128,\n",
    "            out_channels=256,\n",
    "            kernel_size=3,\n",
    "            stride=2,\n",
    "            padding=1\n",
    "            )\n",
    "        self.fc1 = nn.Linear(\n",
    "            in_features=25600,\n",
    "            out_features=512,\n",
    "            )\n",
    "        self.fc2 = nn.Linear(\n",
    "            in_features=512,\n",
    "            out_features=num_actions\n",
    "            )\n",
    "        \n",
    "        # Activations\n",
    "        self.relu = nn.ReLU()\n",
    "        self.softmax = nn.Softmax()\n",
    "    \n",
    "    def forward(self, x):\n",
    "        \n",
    "        # Forward pass\n",
    "        x = self.relu(self.conv1(x))\n",
    "        x = self.relu(self.conv2(x))\n",
    "        x = self.relu(self.conv3(x))\n",
    "        x = self.relu(self.conv4(x))\n",
    "        x = self.relu(self.fc1(x))\n",
    "        x = self.softmax(self.fc2(x))\n",
    "        \n",
    "        return x"
   ]
  },
  {
   "cell_type": "code",
   "execution_count": 4,
   "metadata": {
    "collapsed": true
   },
   "outputs": [],
   "source": [
    "class Agent:\n",
    "    def __init__(self, DQN, memory_depth):\n",
    "        self.DQN = DQN\n",
    "        self.memory_depth = memory_depth\n",
    "        self.memory = deque(maxlen=memory_depth)\n",
    "    \n",
    "    def clone(self, model):\n",
    "        return copy.deepcopy(model)\n",
    "    \n",
    "    def remember(self, state, action, reward, terminal, next_state):\n",
    "        self.memory.append([state, action, reward, terminal, next_state])\n",
    "    \n",
    "    def retrieve(self, batch_size):\n",
    "        if batch_size > self.memories:\n",
    "            batch_size = self.memories\n",
    "        \n",
    "        return random.sample(self.memory, batch_size)\n",
    "    \n",
    "    @property\n",
    "    def memories(self):\n",
    "        return len(self.memory)\n",
    "    \n",
    "    def act(self, state):\n",
    "        q_values = self.DQN(state)\n",
    "        action = np.argmax(q_values.numpy())\n",
    "        return action"
   ]
  },
  {
   "cell_type": "code",
   "execution_count": 5,
   "metadata": {
    "collapsed": true
   },
   "outputs": [],
   "source": [
    "def process(state):\n",
    "    state = rgb2grey(state[35:195, :, :])\n",
    "    state = state[np.newaxis, :, :, np.newaxis]\n",
    "    return to_tensor(state)"
   ]
  },
  {
   "cell_type": "code",
   "execution_count": 6,
   "metadata": {
    "collapsed": true
   },
   "outputs": [],
   "source": [
    "def epsilon_schedule(t):\n",
    "    if t < anneal_time:\n",
    "        return epsilon_i - t*(epsilon_i - epsilon_f)/anneal_time\n",
    "    elif t >= anneal_time:\n",
    "        return epsilon_f"
   ]
  },
  {
   "cell_type": "code",
   "execution_count": 7,
   "metadata": {
    "collapsed": true
   },
   "outputs": [],
   "source": [
    "# Hyperparameters\n",
    "\n",
    "update_interval = 40\n",
    "num_frames = 4\n",
    "num_actions = 4\n",
    "episodes = 100\n",
    "memory_depth = int(1e5)\n",
    "epsilon_i = 1.0\n",
    "epsilon_f = 0.1\n",
    "anneal_time = 10000\n",
    "gamma = 0.9"
   ]
  },
  {
   "cell_type": "code",
   "execution_count": 8,
   "metadata": {},
   "outputs": [],
   "source": [
    "model = DeepQNetwork(num_frames, num_actions)"
   ]
  },
  {
   "cell_type": "code",
   "execution_count": 9,
   "metadata": {
    "collapsed": true
   },
   "outputs": [],
   "source": [
    "agent = Agent(model, memory_depth)"
   ]
  },
  {
   "cell_type": "code",
   "execution_count": 10,
   "metadata": {
    "collapsed": true
   },
   "outputs": [],
   "source": [
    "cuda = True if torch.cuda.is_available() else False\n",
    "to_tensor = torch.cuda.FloatTensor if cuda else torch.FloatTensor"
   ]
  },
  {
   "cell_type": "code",
   "execution_count": 11,
   "metadata": {
    "collapsed": true
   },
   "outputs": [],
   "source": [
    "env = gym.make('Breakout-v0')"
   ]
  },
  {
   "cell_type": "code",
   "execution_count": 37,
   "metadata": {
    "collapsed": true
   },
   "outputs": [],
   "source": [
    "def q_iteration(episodes):\n",
    "    \n",
    "    for episode in range(episodes):\n",
    "        \n",
    "        state = env.reset()\n",
    "        state = process(state)\n",
    "        \n",
    "        done = False\n",
    "        t = 0\n",
    "\n",
    "        while not done:\n",
    "            \n",
    "            env.render()\n",
    "            \n",
    "            while state.size()[-1] < num_frames:\n",
    "                action = np.random.choice(num_actions)\n",
    "                \n",
    "                new_frame, reward, done, info = env.step(action)\n",
    "                new_frame = process(new_frame)\n",
    "                \n",
    "                state = torch.cat([state, new_frame], -1)\n",
    "                \n",
    "            if np.random.uniform < epsilon_schedule(t):\n",
    "                action = np.random.choice(num_actions)\n",
    "\n",
    "            else:\n",
    "                action = agent.act(state)\n",
    "\n",
    "            new_frame, reward, done, info = env.step(action)\n",
    "            new_frame = process(new_frame)\n",
    "            \n",
    "            new_state = torch.cat([state, new_frame], -1)\n",
    "            new_state = new_state[:, :, :, 1:]\n",
    "\n",
    "            agent.remember(state, action, reward, done, new_state)\n",
    "\n",
    "            state = new_state\n",
    "            t += 1\n",
    "            \n",
    "            if t % update_interval == 0:\n",
    "                pass\n",
    "\n",
    "            if done:\n",
    "                print(\"Episode {}: Episode completed after {} timesteps\".format(episode, t))"
   ]
  },
  {
   "cell_type": "code",
   "execution_count": 38,
   "metadata": {},
   "outputs": [
    {
     "ename": "TypeError",
     "evalue": "'<' not supported between instances of 'builtin_function_or_method' and 'float'",
     "output_type": "error",
     "traceback": [
      "\u001b[0;31m---------------------------------------------------------------------------\u001b[0m",
      "\u001b[0;31mTypeError\u001b[0m                                 Traceback (most recent call last)",
      "\u001b[0;32m<ipython-input-38-a53418db221d>\u001b[0m in \u001b[0;36m<module>\u001b[0;34m()\u001b[0m\n\u001b[0;32m----> 1\u001b[0;31m \u001b[0mq_iteration\u001b[0m\u001b[0;34m(\u001b[0m\u001b[0;36m100\u001b[0m\u001b[0;34m)\u001b[0m\u001b[0;34m\u001b[0m\u001b[0m\n\u001b[0m",
      "\u001b[0;32m<ipython-input-37-4d4b5ad7c3a5>\u001b[0m in \u001b[0;36mq_iteration\u001b[0;34m(episodes)\u001b[0m\n\u001b[1;32m     21\u001b[0m                 \u001b[0mstate\u001b[0m \u001b[0;34m=\u001b[0m \u001b[0mtorch\u001b[0m\u001b[0;34m.\u001b[0m\u001b[0mcat\u001b[0m\u001b[0;34m(\u001b[0m\u001b[0;34m[\u001b[0m\u001b[0mstate\u001b[0m\u001b[0;34m,\u001b[0m \u001b[0mnew_frame\u001b[0m\u001b[0;34m]\u001b[0m\u001b[0;34m,\u001b[0m \u001b[0;34m-\u001b[0m\u001b[0;36m1\u001b[0m\u001b[0;34m)\u001b[0m\u001b[0;34m\u001b[0m\u001b[0m\n\u001b[1;32m     22\u001b[0m \u001b[0;34m\u001b[0m\u001b[0m\n\u001b[0;32m---> 23\u001b[0;31m             \u001b[0;32mif\u001b[0m \u001b[0mnp\u001b[0m\u001b[0;34m.\u001b[0m\u001b[0mrandom\u001b[0m\u001b[0;34m.\u001b[0m\u001b[0muniform\u001b[0m \u001b[0;34m<\u001b[0m \u001b[0mepsilon_schedule\u001b[0m\u001b[0;34m(\u001b[0m\u001b[0mt\u001b[0m\u001b[0;34m)\u001b[0m\u001b[0;34m:\u001b[0m\u001b[0;34m\u001b[0m\u001b[0m\n\u001b[0m\u001b[1;32m     24\u001b[0m                 \u001b[0maction\u001b[0m \u001b[0;34m=\u001b[0m \u001b[0mnp\u001b[0m\u001b[0;34m.\u001b[0m\u001b[0mrandom\u001b[0m\u001b[0;34m.\u001b[0m\u001b[0mchoice\u001b[0m\u001b[0;34m(\u001b[0m\u001b[0mnum_actions\u001b[0m\u001b[0;34m)\u001b[0m\u001b[0;34m\u001b[0m\u001b[0m\n\u001b[1;32m     25\u001b[0m \u001b[0;34m\u001b[0m\u001b[0m\n",
      "\u001b[0;31mTypeError\u001b[0m: '<' not supported between instances of 'builtin_function_or_method' and 'float'"
     ]
    }
   ],
   "source": [
    "q_iteration(100)"
   ]
  },
  {
   "cell_type": "code",
   "execution_count": null,
   "metadata": {
    "collapsed": true
   },
   "outputs": [],
   "source": []
  }
 ],
 "metadata": {
  "kernelspec": {
   "display_name": "Python 3",
   "language": "python",
   "name": "python3"
  },
  "language_info": {
   "codemirror_mode": {
    "name": "ipython",
    "version": 3
   },
   "file_extension": ".py",
   "mimetype": "text/x-python",
   "name": "python",
   "nbconvert_exporter": "python",
   "pygments_lexer": "ipython3",
   "version": "3.6.1"
  }
 },
 "nbformat": 4,
 "nbformat_minor": 2
}
