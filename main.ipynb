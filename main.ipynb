{
 "cells": [
  {
   "cell_type": "code",
   "execution_count": null,
   "metadata": {
    "collapsed": true
   },
   "outputs": [],
   "source": [
    "import os\n",
    "import gym\n",
    "import time\n",
    "import copy\n",
    "import random\n",
    "import numpy as np\n",
    "\n",
    "import torch\n",
    "import torchvision\n",
    "import torch.nn as nn\n",
    "\n",
    "from collections import deque\n",
    "from skimage.color import rgb2grey\n",
    "from matplotlib import pyplot as plt\n",
    "from tqdm import tqdm_notebook as tqdm"
   ]
  },
  {
   "cell_type": "code",
   "execution_count": null,
   "metadata": {
    "collapsed": true
   },
   "outputs": [],
   "source": [
    "class DeepQNetwork(nn.Module):\n",
    "    def __init__(self, num_frames, num_actions):\n",
    "        super(DeepQNetwork, self).__init__()\n",
    "        \n",
    "        # Layers\n",
    "        self.conv1 = nn.Conv2d(\n",
    "            in_channels=num_frames,\n",
    "            out_channels=32,\n",
    "            kernel_size=3,\n",
    "            stride=2,\n",
    "            padding=1\n",
    "            )\n",
    "        self.conv2 = nn.Conv2d(\n",
    "            in_channels=32,\n",
    "            out_channels=64,\n",
    "            kernel_size=3,\n",
    "            stride=2,\n",
    "            padding=1\n",
    "            )\n",
    "        self.conv3 = nn.Conv2d(\n",
    "            in_channels=64,\n",
    "            out_channels=128,\n",
    "            kernel_size=3,\n",
    "            stride=2,\n",
    "            padding=1\n",
    "            )\n",
    "        self.conv4 = nn.Conv2d(\n",
    "            in_channels=128,\n",
    "            out_channels=256,\n",
    "            kernel_size=3,\n",
    "            stride=2,\n",
    "            padding=1\n",
    "            )\n",
    "        self.fc1 = nn.Linear(\n",
    "            in_features=25600,\n",
    "            out_features=512,\n",
    "            )\n",
    "        self.fc2 = nn.Linear(\n",
    "            in_features=512,\n",
    "            out_features=num_actions\n",
    "            )\n",
    "        \n",
    "        # Activations\n",
    "        self.relu = nn.ReLU()\n",
    "        self.softmax = nn.Softmax(dim=0)\n",
    "    \n",
    "    def flatten(self, x):\n",
    "        x = x.view(-1)\n",
    "        return x\n",
    "    \n",
    "    def forward(self, x):\n",
    "        \n",
    "        # Forward pass\n",
    "        x = self.relu(self.conv1(x))\n",
    "        x = self.relu(self.conv2(x))\n",
    "        x = self.relu(self.conv3(x))\n",
    "        x = self.relu(self.conv4(x))\n",
    "        x = self.flatten(x)\n",
    "        x = self.relu(self.fc1(x))\n",
    "        x = self.softmax(self.fc2(x))\n",
    "        \n",
    "        return x"
   ]
  },
  {
   "cell_type": "code",
   "execution_count": null,
   "metadata": {
    "collapsed": true
   },
   "outputs": [],
   "source": [
    "class Agent:\n",
    "    def __init__(self, DQN, memory_depth, epsilon_i, epsilon_f, anneal_time):\n",
    "        self.DQN = DQN\n",
    "        self.memory_depth = memory_depth\n",
    "        self.e_i = epsilon_i\n",
    "        self.e_f = epsilon_f\n",
    "        self.anneal_time = anneal_time\n",
    "        \n",
    "        self.memory = deque(maxlen=memory_depth)\n",
    "    \n",
    "    def clone(self, model):\n",
    "        return copy.deepcopy(model)\n",
    "    \n",
    "    def remember(self, state, action, reward, terminal, next_state):\n",
    "        self.memory.append([state, action, reward, terminal, next_state])\n",
    "    \n",
    "    def retrieve(self, batch_size):\n",
    "        if batch_size > self.memories:\n",
    "            batch_size = self.memories\n",
    "        \n",
    "        return random.sample(self.memory, batch_size)\n",
    "    \n",
    "    @property\n",
    "    def memories(self):\n",
    "        return len(self.memory)\n",
    "    \n",
    "    def act(self, state):\n",
    "        q_values = self.DQN(state).detach()\n",
    "        action = np.argmax(q_values.numpy())\n",
    "        return action\n",
    "    \n",
    "    def process(self, state):\n",
    "        state = rgb2grey(state[35:195, :, :])\n",
    "        state = state[np.newaxis, np.newaxis, :, :]\n",
    "        return to_tensor(state)\n",
    "    \n",
    "    def exploration_rate(self, t):\n",
    "        if t < self.anneal_time:\n",
    "            return self.e_i - t*(self.e_i - self.e_f)/self.anneal_time\n",
    "        elif t >= self.anneal_time:\n",
    "            return self.e_f"
   ]
  },
  {
   "cell_type": "code",
   "execution_count": null,
   "metadata": {
    "collapsed": true
   },
   "outputs": [],
   "source": [
    "# Hyperparameters\n",
    "\n",
    "update_interval = 40\n",
    "num_frames = 4\n",
    "num_actions = 4\n",
    "episodes = 100\n",
    "memory_depth = int(1e5)\n",
    "epsilon_i = 0.0\n",
    "epsilon_f = 0.0\n",
    "anneal_time = 10000\n",
    "gamma = 0.9"
   ]
  },
  {
   "cell_type": "code",
   "execution_count": null,
   "metadata": {
    "collapsed": true
   },
   "outputs": [],
   "source": [
    "model = DeepQNetwork(num_frames, num_actions)"
   ]
  },
  {
   "cell_type": "code",
   "execution_count": null,
   "metadata": {
    "collapsed": true
   },
   "outputs": [],
   "source": [
    "agent = Agent(model, memory_depth, epsilon_i, epsilon_f, anneal_time)"
   ]
  },
  {
   "cell_type": "code",
   "execution_count": null,
   "metadata": {
    "collapsed": true
   },
   "outputs": [],
   "source": [
    "cuda = True if torch.cuda.is_available() else False\n",
    "to_tensor = torch.cuda.FloatTensor if cuda else torch.FloatTensor"
   ]
  },
  {
   "cell_type": "code",
   "execution_count": null,
   "metadata": {
    "collapsed": true
   },
   "outputs": [],
   "source": [
    "env = gym.make('Breakout-v0')"
   ]
  },
  {
   "cell_type": "code",
   "execution_count": null,
   "metadata": {
    "collapsed": true
   },
   "outputs": [],
   "source": [
    "def q_iteration(episodes):\n",
    "    \n",
    "    for episode in tqdm(range(episodes)):\n",
    "        \n",
    "        state = env.reset()\n",
    "        state = agent.process(state)\n",
    "        \n",
    "        done = False\n",
    "        t = 0\n",
    "\n",
    "        while not done:\n",
    "            \n",
    "            env.render()\n",
    "            \n",
    "            while state.size()[1] < num_frames:\n",
    "                action = np.random.choice(num_actions)\n",
    "                \n",
    "                new_frame, reward, done, info = env.step(action)\n",
    "                new_frame = agent.process(new_frame)\n",
    "                \n",
    "                state = torch.cat([state, new_frame], 1)\n",
    "                \n",
    "            if np.random.uniform() < agent.exploration_rate(t):\n",
    "                action = np.random.choice(num_actions)\n",
    "\n",
    "            else:\n",
    "                action = agent.act(state)\n",
    "                \n",
    "            print(action)\n",
    "\n",
    "            new_frame, reward, done, info = env.step(action)\n",
    "            new_frame = agent.process(new_frame)\n",
    "            \n",
    "            print(reward, done)\n",
    "            \n",
    "            new_state = torch.cat([state, new_frame], 1)\n",
    "            new_state = new_state[:, 1:, :, :]\n",
    "\n",
    "            agent.remember(state, action, reward, done, new_state)\n",
    "\n",
    "            state = new_state\n",
    "            t += 1\n",
    "            \n",
    "            if t % update_interval == 0:\n",
    "                pass\n",
    "\n",
    "            if done:\n",
    "                print(\"Episode {}: Episode completed after {} timesteps\".format(episode, t))"
   ]
  },
  {
   "cell_type": "code",
   "execution_count": null,
   "metadata": {
    "scrolled": false
   },
   "outputs": [],
   "source": [
    "q_iteration(100)"
   ]
  },
  {
   "cell_type": "code",
   "execution_count": null,
   "metadata": {
    "collapsed": true
   },
   "outputs": [],
   "source": []
  }
 ],
 "metadata": {
  "kernelspec": {
   "display_name": "Python 3",
   "language": "python",
   "name": "python3"
  },
  "language_info": {
   "codemirror_mode": {
    "name": "ipython",
    "version": 3
   },
   "file_extension": ".py",
   "mimetype": "text/x-python",
   "name": "python",
   "nbconvert_exporter": "python",
   "pygments_lexer": "ipython3",
   "version": "3.6.1"
  }
 },
 "nbformat": 4,
 "nbformat_minor": 2
}
